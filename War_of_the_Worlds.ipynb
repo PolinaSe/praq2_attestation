{
 "cells": [
  {
   "cell_type": "markdown",
   "id": "46494534",
   "metadata": {},
   "source": [
    "# Постройте гистограмму из 20 наиболее употребительных слов в приложенном файле, а таже сделайте сводку по файлу включая количество слов, строк и символов (с пробелами и без них)."
   ]
  },
  {
   "cell_type": "code",
   "execution_count": 1,
   "id": "3484f2f8",
   "metadata": {},
   "outputs": [],
   "source": [
    "filename = 'Уэллс_-_Война_миров.txt'"
   ]
  },
  {
   "cell_type": "code",
   "execution_count": 2,
   "id": "30f21531",
   "metadata": {},
   "outputs": [],
   "source": [
    "# Чтение файла\n",
    "with open(filename, 'r') as f:\n",
    "    content = f.read()"
   ]
  },
  {
   "cell_type": "code",
   "execution_count": 3,
   "id": "701de140",
   "metadata": {},
   "outputs": [],
   "source": [
    "# Разделение текста на слова и подсчет количества слов\n",
    "words = content.split()\n",
    "word_count = {}\n",
    "for word in words:\n",
    "    if word not in word_count:\n",
    "        word_count[word] = 1\n",
    "    else:\n",
    "        word_count[word] += 1"
   ]
  },
  {
   "cell_type": "code",
   "execution_count": 4,
   "id": "50dd89bd",
   "metadata": {},
   "outputs": [],
   "source": [
    "# Сортировка слов по частоте\n",
    "sorted_words = sorted(word_count.items(), key=lambda x: x[1], reverse=True)"
   ]
  },
  {
   "cell_type": "code",
   "execution_count": 10,
   "id": "019e8c0c",
   "metadata": {
    "scrolled": true
   },
   "outputs": [
    {
     "name": "stdout",
     "output_type": "stream",
     "text": [
      "20 наиболее употребляемых слов:\n",
      "и: 1654\n",
      "в: 1068\n",
      "–: 830\n",
      "на: 821\n",
      "не: 598\n",
      "я: 580\n",
      "что: 520\n",
      "с: 392\n",
      "Я: 356\n",
      "к: 348\n",
      "по: 280\n",
      "из: 258\n",
      "как: 251\n",
      "за: 211\n",
      "от: 206\n",
      "он: 187\n",
      "все: 186\n",
      "они: 175\n",
      "было: 153\n",
      "но: 147\n"
     ]
    }
   ],
   "source": [
    "# Вывод наиболее часто встречающихся слов\n",
    "print(\"20 наиболее употребляемых слов:\")\n",
    "list_of_words = []\n",
    "list_of_counts = []\n",
    "for word, count in sorted_words[:20]:\n",
    "    print(f\"{word}: {count}\")\n",
    "    list_of_words.append(word)\n",
    "    list_of_counts.append(count)"
   ]
  },
  {
   "cell_type": "code",
   "execution_count": 13,
   "id": "c7232497",
   "metadata": {},
   "outputs": [
    {
     "data": {
      "image/png": "[encoded data removed]",
      "text/plain": [
       "<Figure size 432x288 with 1 Axes>"
      ]
     },
     "metadata": {
      "needs_background": "light"
     },
     "output_type": "display_data"
    }
   ],
   "source": [
    "import matplotlib.pyplot as plt\n",
    "\n",
    "plt.bar(list_of_words, list_of_counts, color='lightcoral')\n",
    "plt.title('20 наиболее употребляемых слов')\n",
    "plt.xlabel('Слова')\n",
    "plt.ylabel('Частота')\n",
    "plt.xticks(rotation=90)\n",
    "plt.show()"
   ]
  },
  {
   "cell_type": "code",
   "execution_count": 14,
   "id": "e8c1d6f7",
   "metadata": {},
   "outputs": [
    {
     "name": "stdout",
     "output_type": "stream",
     "text": [
      "\n",
      "Всего слов: 45354\n",
      "Всего строк: 2129\n",
      "Всего символов с пробелами: 298375\n",
      "Всего символов без пробелов: 254657\n"
     ]
    }
   ],
   "source": [
    "# Подсчет общего количества слов, строк и символов\n",
    "n_words = len(words)\n",
    "n_lines = content.count('\\n') + 1\n",
    "n_chars = len(content)\n",
    "n_chars_no_spaces = len(content.replace(' ', ''))\n",
    "\n",
    "print(f\"\\nВсего слов: {n_words}\")\n",
    "print(f\"Всего строк: {n_lines}\")\n",
    "print(f\"Всего символов с пробелами: {n_chars}\")\n",
    "print(f\"Всего символов без пробелов: {n_chars_no_spaces}\")"
   ]
  }
 ],
 "metadata": {
  "kernelspec": {
   "display_name": "Python 3",
   "language": "python",
   "name": "python3"
  },
  "language_info": {
   "codemirror_mode": {
    "name": "ipython",
    "version": 3
   },
   "file_extension": ".py",
   "mimetype": "text/x-python",
   "name": "python",
   "nbconvert_exporter": "python",
   "pygments_lexer": "ipython3",
   "version": "3.8.8"
  }
 },
 "nbformat": 4,
 "nbformat_minor": 5
}
